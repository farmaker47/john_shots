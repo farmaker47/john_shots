{
  "nbformat": 4,
  "nbformat_minor": 0,
  "metadata": {
    "colab": {
      "provenance": []
    },
    "kernelspec": {
      "name": "python3",
      "display_name": "Python 3"
    },
    "language_info": {
      "name": "python"
    }
  },
  "cells": [
    {
      "cell_type": "code",
      "source": [
        "from google.colab import drive\n",
        "drive.mount('/gdrive')"
      ],
      "metadata": {
        "colab": {
          "base_uri": "https://localhost:8080/"
        },
        "id": "l9DDPsu0VvR-",
        "outputId": "dd63f5bc-efbd-4c8b-f32a-ec5a5b9a16af"
      },
      "execution_count": null,
      "outputs": [
        {
          "output_type": "stream",
          "name": "stdout",
          "text": [
            "Mounted at /gdrive\n"
          ]
        }
      ]
    },
    {
      "cell_type": "code",
      "execution_count": null,
      "metadata": {
        "id": "XzQTb2VATQkE"
      },
      "outputs": [],
      "source": [
        "'''\n",
        "import os\n",
        "import glob\n",
        "import random\n",
        "import shutil\n",
        "\n",
        "import librosa\n",
        "import soundfile as sf\n",
        "from IPython.display import Audio\n",
        "import numpy as np\n",
        "import matplotlib.pyplot as plt\n",
        "import seaborn as sns\n",
        "import tensorflow as tf\n",
        "\n",
        "#from pydub import AudioSegment\n",
        "'''"
      ]
    },
    {
      "cell_type": "code",
      "source": [
        "!ls"
      ],
      "metadata": {
        "colab": {
          "base_uri": "https://localhost:8080/"
        },
        "id": "pVrBjUL0WDAG",
        "outputId": "bbed6fbd-b4ee-43fa-9d12-e2bda26c8e77"
      },
      "execution_count": null,
      "outputs": [
        {
          "output_type": "stream",
          "name": "stdout",
          "text": [
            "sample_data\n"
          ]
        }
      ]
    },
    {
      "cell_type": "code",
      "source": [
        "!unzip \"/gdrive/MyDrive/JWick/gun_shot_wav.zip\" -d \"/content\""
      ],
      "metadata": {
        "id": "WFwOFGExWGJM"
      },
      "execution_count": null,
      "outputs": []
    },
    {
      "cell_type": "code",
      "source": [
        "!unzip \"/gdrive/MyDrive/JWick/backgound_2_seconds.zip\" -d \"./\""
      ],
      "metadata": {
        "id": "egNJDPsIWYTe"
      },
      "execution_count": null,
      "outputs": []
    },
    {
      "cell_type": "code",
      "source": [
        "# folder path\n",
        "dir_path = '/content/content/gun_shot_wav'\n",
        "count = 0\n",
        "# Iterate directory\n",
        "for path in os.listdir(dir_path):\n",
        "    # check if current path is a file\n",
        "    if os.path.isfile(os.path.join(dir_path, path)):\n",
        "        count += 1\n",
        "print('File count:', count)"
      ],
      "metadata": {
        "colab": {
          "base_uri": "https://localhost:8080/"
        },
        "id": "Q5rBfOq3WhX0",
        "outputId": "aa891258-c347-417a-cb82-66daa1871a4f"
      },
      "execution_count": null,
      "outputs": [
        {
          "output_type": "stream",
          "name": "stdout",
          "text": [
            "File count: 260\n"
          ]
        }
      ]
    },
    {
      "cell_type": "code",
      "source": [
        "def show_sample(audio_path):\n",
        "  audio_data, sample_rate = sf.read(audio_path)\n",
        "  class_name = os.path.basename(os.path.dirname(audio_path))\n",
        "  print(f'Class: {class_name}')\n",
        "  print(f'File: {audio_path}')\n",
        "  print(f'Sample rate: {sample_rate}')\n",
        "  print(f'Sample length: {len(audio_data)}')\n",
        "\n",
        "  plt.title(class_name)\n",
        "  plt.plot(audio_data)\n",
        "  display(Audio(audio_data.T, rate=sample_rate))"
      ],
      "metadata": {
        "id": "3-MaeDA0W60Y"
      },
      "execution_count": null,
      "outputs": []
    },
    {
      "cell_type": "code",
      "source": [
        "show_sample(\"/content/content/background/silence3.wav\")"
      ],
      "metadata": {
        "id": "bSbI2MsZXGy-"
      },
      "execution_count": null,
      "outputs": []
    },
    {
      "cell_type": "code",
      "source": [
        "!mkdir dataset\n",
        "%cd dataset\n",
        "!mkdir train test\n",
        "%cd train\n",
        "!mkdir background gunshot\n",
        "%cd ../\n",
        "%cd test\n",
        "!mkdir background gunshot"
      ],
      "metadata": {
        "colab": {
          "base_uri": "https://localhost:8080/"
        },
        "id": "ENFFmc2iXLDX",
        "outputId": "2535e5ca-3289-4db3-fadb-722faeb152e3"
      },
      "execution_count": null,
      "outputs": [
        {
          "output_type": "stream",
          "name": "stdout",
          "text": [
            "/content/dataset\n",
            "/content/dataset/train\n",
            "/content/dataset\n",
            "/content/dataset/test\n"
          ]
        }
      ]
    },
    {
      "cell_type": "code",
      "source": [
        "# move 180 files to train folders\n",
        "!ls /content/content/background/* | head -180 | xargs -I{} mv {} /content/dataset/train/background\n",
        "!ls /content/content/gun_shot_wav/* | head -180 | xargs -I{} mv {} /content/dataset/train/gunshot"
      ],
      "metadata": {
        "id": "iuoDayf3X0nm"
      },
      "execution_count": null,
      "outputs": []
    },
    {
      "cell_type": "code",
      "source": [
        "!ls /content/content/background/* | head -20 | xargs -I{} mv {} /content/dataset/test/background\n",
        "!ls /content/content/gun_shot_wav/* | head -20 | xargs -I{} mv {} /content/dataset/test/gunshot"
      ],
      "metadata": {
        "id": "1vACwVPWYkev"
      },
      "execution_count": null,
      "outputs": []
    },
    {
      "cell_type": "code",
      "source": [
        "%cd ../../"
      ],
      "metadata": {
        "colab": {
          "base_uri": "https://localhost:8080/"
        },
        "id": "kMULe-1pZHjY",
        "outputId": "b41bcf0d-66c5-4662-d7d4-bb5c2dc5b473"
      },
      "execution_count": null,
      "outputs": [
        {
          "output_type": "stream",
          "name": "stdout",
          "text": [
            "/content\n"
          ]
        }
      ]
    },
    {
      "cell_type": "markdown",
      "source": [
        "Installing"
      ],
      "metadata": {
        "id": "lFad7rojZ0AP"
      }
    },
    {
      "cell_type": "code",
      "source": [
        "!wget https://repo.anaconda.com/miniconda/Miniconda3-py39_23.3.1-0-Linux-x86_64.sh\n",
        "!chmod +x Miniconda3-py39_23.3.1-0-Linux-x86_64.sh\n",
        "!./Miniconda3-py39_23.3.1-0-Linux-x86_64.sh -b -f -p /usr/local\n",
        "!conda update conda"
      ],
      "metadata": {
        "id": "zkKbSQYSZMLp"
      },
      "execution_count": null,
      "outputs": []
    },
    {
      "cell_type": "code",
      "source": [
        "import sys\n",
        "sys.path.append('/usr/local/lib/python3.9/site-packages')"
      ],
      "metadata": {
        "id": "s8gf48a8ZhyZ"
      },
      "execution_count": null,
      "outputs": []
    },
    {
      "cell_type": "code",
      "source": [
        "!conda create -n myenv python=3.9"
      ],
      "metadata": {
        "id": "GsMvznQ9Znd9"
      },
      "execution_count": null,
      "outputs": []
    },
    {
      "cell_type": "code",
      "source": [
        "%%shell\n",
        "eval \"$(conda shell.bash hook)\"\n",
        "conda activate myenv && pip install tflite-model-maker && sudo apt -y install libportaudio2 && pip install numpy==1.23.4 && pip install ipykernel && pip install seaborn"
      ],
      "metadata": {
        "id": "LjBK3i_7Zw48"
      },
      "execution_count": null,
      "outputs": []
    },
    {
      "cell_type": "code",
      "source": [
        "%%writefile train_model_script.py\n",
        "\n",
        "import tensorflow as tf\n",
        "import tflite_model_maker as mm\n",
        "from tflite_model_maker import audio_classifier\n",
        "import os\n",
        "\n",
        "import numpy as np\n",
        "import matplotlib.pyplot as plt\n",
        "import seaborn as sns\n",
        "\n",
        "import itertools\n",
        "import glob\n",
        "import random\n",
        "import IPython\n",
        "\n",
        "from IPython.display import Audio, Image\n",
        "from IPython import display\n",
        "from scipy.io import wavfile\n",
        "\n",
        "####################################\n",
        "# Directory\n",
        "data_dir = './dataset'\n",
        "\n",
        "#Specs\n",
        "################################################################################       spec = audio_classifier.BrowserFftSpec()\n",
        "spec = audio_classifier.YamNetSpec(\n",
        "    keep_yamnet_and_custom_heads=True,\n",
        "    frame_step=1 * audio_classifier.YamNetSpec.EXPECTED_WAVEFORM_LENGTH,\n",
        "    frame_length=2 * audio_classifier.YamNetSpec.EXPECTED_WAVEFORM_LENGTH)\n",
        "\n",
        "####################################\n",
        "# Data\n",
        "train_data = audio_classifier.DataLoader.from_folder(\n",
        "    spec, os.path.join(data_dir, 'train'), cache=True)\n",
        "train_data, validation_data = train_data.split(0.8)\n",
        "test_data = audio_classifier.DataLoader.from_folder(\n",
        "    spec, os.path.join(data_dir, 'test'), cache=True)\n",
        "\n",
        "####################################\n",
        "# Train\n",
        "batch_size = 128\n",
        "epochs = 20\n",
        "\n",
        "print('Training the model')\n",
        "model = audio_classifier.create(\n",
        "    train_data,\n",
        "    spec,\n",
        "    validation_data,\n",
        "    batch_size=batch_size,\n",
        "    epochs=epochs)\n",
        "\n",
        "#####################################\n",
        "# export\n",
        "models_path = './models'\n",
        "print(f'Exporing the TFLite model to {models_path}')\n",
        "model.export(models_path, tflite_filename='gunshot_model.tflite')\n",
        "\n",
        "#####################################\n",
        "# evaluate\n",
        "print('Evaluating the model')\n",
        "model.evaluate(test_data)\n",
        "\n",
        "#####################################\n",
        "def show_confusion_matrix(confusion, test_labels):\n",
        "  \"\"\"Compute confusion matrix and normalize.\"\"\"\n",
        "  confusion_normalized = confusion.astype(\"float\") / confusion.sum(axis=1)\n",
        "  axis_labels = test_labels\n",
        "  ax = sns.heatmap(\n",
        "      confusion_normalized, xticklabels=axis_labels, yticklabels=axis_labels,\n",
        "      cmap='Blues', annot=True, fmt='.2f', square=True)\n",
        "  plt.title(\"Confusion matrix\")\n",
        "  plt.ylabel(\"True label\")\n",
        "  plt.xlabel(\"Predicted label\")\n",
        "\n",
        "confusion_matrix = model.confusion_matrix(test_data)\n",
        "show_confusion_matrix(confusion_matrix.numpy(), test_data.index_to_label)\n",
        "\n",
        "#####################################"
      ],
      "metadata": {
        "colab": {
          "base_uri": "https://localhost:8080/"
        },
        "id": "LdoxvYMkb0V8",
        "outputId": "0f37b7d4-9ef9-4167-968c-5bb276f9e304"
      },
      "execution_count": null,
      "outputs": [
        {
          "output_type": "stream",
          "name": "stdout",
          "text": [
            "Overwriting train_model_script.py\n"
          ]
        }
      ]
    },
    {
      "cell_type": "code",
      "source": [
        "%%shell\n",
        "eval \"$(conda shell.bash hook)\"\n",
        "conda activate myenv\n",
        "python train_model_script.py"
      ],
      "metadata": {
        "id": "kok7Sd5BcLAH"
      },
      "execution_count": null,
      "outputs": []
    }
  ]
}